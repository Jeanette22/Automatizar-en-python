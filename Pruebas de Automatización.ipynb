{
 "cells": [
  {
   "cell_type": "code",
   "metadata": {
    "cell_id": "72ec4f959e284fe4b7105e0672982fea",
    "tags": [],
    "deepnote_to_be_reexecuted": false,
    "source_hash": "7dd11dae",
    "execution_start": 1654175177783,
    "execution_millis": 12785,
    "deepnote_cell_type": "code",
    "deepnote_cell_height": 448.84375
   },
   "source": "!pip install bs4",
   "execution_count": 1,
   "outputs": [
    {
     "name": "stdout",
     "text": "Collecting bs4\n  Downloading bs4-0.0.1.tar.gz (1.1 kB)\nCollecting beautifulsoup4\n  Downloading beautifulsoup4-4.11.1-py3-none-any.whl (128 kB)\n\u001b[K     |████████████████████████████████| 128 kB 5.2 MB/s \n\u001b[?25hCollecting soupsieve>1.2\n  Downloading soupsieve-2.3.2.post1-py3-none-any.whl (37 kB)\nBuilding wheels for collected packages: bs4\n  Building wheel for bs4 (setup.py) ... \u001b[?25ldone\n\u001b[?25h  Created wheel for bs4: filename=bs4-0.0.1-py3-none-any.whl size=1272 sha256=de3d068528a6a737572bd2411138802d0670fed0afec1b1134ab8a9322be7629\n  Stored in directory: /root/.cache/pip/wheels/0a/9e/ba/20e5bbc1afef3a491f0b3bb74d508f99403aabe76eda2167ca\nSuccessfully built bs4\nInstalling collected packages: soupsieve, beautifulsoup4, bs4\nSuccessfully installed beautifulsoup4-4.11.1 bs4-0.0.1 soupsieve-2.3.2.post1\n\u001b[33mWARNING: You are using pip version 20.1.1; however, version 22.1.2 is available.\nYou should consider upgrading via the '/root/venv/bin/python -m pip install --upgrade pip' command.\u001b[0m\n",
     "output_type": "stream"
    }
   ]
  },
  {
   "cell_type": "code",
   "metadata": {
    "cell_id": "4326421bed6a462189f9988b7372a8a4",
    "tags": [],
    "deepnote_to_be_reexecuted": false,
    "source_hash": "48bc4314",
    "execution_start": 1654175190572,
    "execution_millis": 571,
    "deepnote_cell_type": "code",
    "deepnote_cell_height": 865.828125
   },
   "source": "from requests import get\nimport bs4 as bs\n\n# Descargo el codigo HTML\nresult = get(\"https://www.songkick.com/es/metro-areas/32911-argentina-buenos-aires\")\n\n# Hago que la computadora lo vea y lo interprete para luego poder navegarlo facilmente\nsoup = bs.BeautifulSoup(result.content,'lxml')\n\nsoup.find_all(\"span\")",
   "execution_count": 2,
   "outputs": [
    {
     "output_type": "execute_result",
     "execution_count": 2,
     "data": {
      "text/plain": "[<span>Conciertos en Buenos Aires</span>,\n <span class=\"col\">\n <span class=\"name\">Green Day</span>\n <br/>\n <span class=\"venue\">Velez Sarsfield Stadium</span>\n </span>,\n <span class=\"name\">Green Day</span>,\n <span class=\"venue\">Velez Sarsfield Stadium</span>,\n <span class=\"col\">\n <span class=\"name\">LANY</span>\n <br/>\n <span class=\"venue\">Teatro Vorterix</span>\n </span>,\n <span class=\"name\">LANY</span>,\n <span class=\"venue\">Teatro Vorterix</span>,\n <span class=\"col\">\n <span class=\"name\">Kevin Johansen</span>\n <br/>\n <span class=\"venue\">Teatro Gran Rex</span>\n </span>,\n <span class=\"name\">Kevin Johansen</span>,\n <span class=\"venue\">Teatro Gran Rex</span>,\n <span class=\"col\">\n <span class=\"name\">Los Mesoneros</span>\n <br/>\n <span class=\"venue\">Groove</span>\n </span>,\n <span class=\"name\">Los Mesoneros</span>,\n <span class=\"venue\">Groove</span>,\n <span class=\"col\">\n <span class=\"name\">La Beriso</span>\n <br/>\n <span class=\"venue\">Centro Cultural Florencio Constantino</span>\n </span>,\n <span class=\"name\">La Beriso</span>,\n <span class=\"venue\">Centro Cultural Florencio Constantino</span>,\n <span class=\"col\">\n <span class=\"name\">Airbourne</span>\n <br/>\n <span class=\"venue\">Teatro Vorterix</span>\n </span>,\n <span class=\"name\">Airbourne</span>,\n <span class=\"venue\">Teatro Vorterix</span>,\n <span class=\"col\">\n <span class=\"name\">SIAMÉS</span>\n <br/>\n <span class=\"venue\">Teatro Vorterix</span>\n </span>,\n <span class=\"name\">SIAMÉS</span>,\n <span class=\"venue\">Teatro Vorterix</span>,\n <span class=\"col\">\n <span class=\"name\">Boom Boom Kid</span>\n <br/>\n <span class=\"venue\">Lado B, Niceto Club</span>\n </span>,\n <span class=\"name\">Boom Boom Kid</span>,\n <span class=\"venue\">Lado B, Niceto Club</span>,\n <span class=\"col\">\n <span class=\"name\">Cadena Perpetua</span>\n <br/>\n <span class=\"venue\">Auditorio Sur</span>\n </span>,\n <span class=\"name\">Cadena Perpetua</span>,\n <span class=\"venue\">Auditorio Sur</span>,\n <span class=\"col\">\n <span class=\"name\">Leo Garcia</span>\n <br/>\n <span class=\"venue\">1040 Polo Cultural</span>\n </span>,\n <span class=\"name\">Leo Garcia</span>,\n <span class=\"venue\">1040 Polo Cultural</span>,\n <span class=\"change-location\">(<a class=\"change-location\" data-analytics-category=\"navigation-megadropdown\" data-analytics-label=\"change_location\" href=\"/session/filter_metro_area\">Cambiar ubicación</a>)</span>,\n <span class=\"name\">Juicy J</span>,\n <span class=\"name\">Kid Ink</span>,\n <span class=\"name\">Nas</span>,\n <span class=\"name\">Three Days Grace</span>,\n <span class=\"name\">Ne-Yo</span>,\n <span class=\"name\">Allison Kane</span>,\n <span class=\"name\">Bleu</span>,\n <span class=\"name\">Suki Waterhouse</span>,\n <span class=\"name\">Benson Boone</span>,\n <span class=\"name\">CAFUNÉ</span>,\n <span class=\"button-copy\">La app</span>,\n <span>Tus artistas</span>,\n <span class=\"event-details\">Hipódromo de Palermo</span>,\n <span class=\"event-details\">Buenos Aires, Argentina</span>,\n <span class=\"event-details\">Hipódromo de Palermo</span>,\n <span class=\"event-details\">Buenos Aires, Argentina</span>,\n <span class=\"event-details\">Hipódromo de Palermo</span>,\n <span class=\"event-details\">Buenos Aires, Argentina</span>,\n <span class=\"event-details\">Feria Don Bosco</span>,\n <span class=\"event-details\">Buenos Aires, Argentina</span>,\n <span class=\"event-details\">Constantine Bar</span>,\n <span class=\"event-details\">Buenos Aires, Argentina</span>,\n <span class=\"event-details\">Velez Sarsfield Stadium</span>,\n <span class=\"event-details\">Buenos Aires, Argentina</span>,\n <span class=\"event-details\">Camping BA</span>,\n <span class=\"event-details\">Buenos Aires, Argentina</span>,\n <span class=\"event-details\">Expo Escobar 2022</span>,\n <span class=\"event-details\">Buenos Aires, Argentina</span>,\n <span class=\"event-details\">Easy Music Festival 4 2022</span>,\n <span class=\"event-details\">Buenos Aires, Argentina</span>,\n <span class=\"last-item-spacer\"></span>,\n <span class=\"last-item-spacer\"></span>,\n <span>\n <strong>Los Angeles Azules</strong>\n </span>,\n <span><a class=\"venue-link\" href=\"/es/venues/33461-luna-park\">Luna Park</a></span>,\n <span>\n <span class=\"city-name\">Buenos Aires, Argentina </span>\n </span>,\n <span class=\"city-name\">Buenos Aires, Argentina </span>,\n <span>\n <strong>Abel Pintos</strong>\n </span>,\n <span><a class=\"venue-link\" href=\"/es/venues/3695764-teatro-opera-orbis-seguros\">Teatro Ópera Orbis Seguros</a></span>,\n <span>\n <span class=\"city-name\">Buenos Aires, Argentina </span>\n </span>,\n <span class=\"city-name\">Buenos Aires, Argentina </span>,\n <span>\n <strong>Manu Sija</strong>\n </span>,\n <span><a class=\"venue-link\" href=\"/es/venues/4427131-cafe-berlin-buenos-aires\">Café Berlín Buenos Aires</a></span>,\n <span>\n <span class=\"city-name\">Buenos Aires, Argentina </span>\n </span>,\n <span class=\"city-name\">Buenos Aires, Argentina </span>,\n <span>\n <strong>Malicia</strong>\n </span>,\n <span><a class=\"venue-link\" href=\"/es/venues/3640829-lucille\">Lucille</a></span>,\n <span>\n <span class=\"city-name\">Buenos Aires, Argentina </span>\n </span>,\n <span class=\"city-name\">Buenos Aires, Argentina </span>,\n <span>\n <strong>Andando Descalzo</strong>\n </span>,\n <span><a class=\"venue-link\" href=\"/es/venues/3091309-galpon-b\">Galpón B</a></span>,\n <span>\n <span class=\"city-name\">Buenos Aires, Argentina </span>\n </span>,\n <span class=\"city-name\">Buenos Aires, Argentina </span>,\n <span>\n <strong>Abel Pintos</strong>\n </span>,\n <span><a class=\"venue-link\" href=\"/es/venues/3695764-teatro-opera-orbis-seguros\">Teatro Ópera Orbis Seguros</a></span>,\n <span>\n <span class=\"city-name\">Buenos Aires, Argentina </span>\n </span>,\n <span class=\"city-name\">Buenos Aires, Argentina </span>,\n <span>\n <strong>Juanse</strong>\n </span>,\n <span><a class=\"venue-link\" href=\"/es/venues/33461-luna-park\">Luna Park</a></span>,\n <span>\n <span class=\"city-name\">Buenos Aires, Argentina </span>\n </span>,\n <span class=\"city-name\">Buenos Aires, Argentina </span>,\n <span>\n <strong>Mimi Maura</strong>\n </span>,\n <span><a class=\"venue-link\" href=\"/es/venues/4427131-cafe-berlin-buenos-aires\">Café Berlín Buenos Aires</a></span>,\n <span>\n <span class=\"city-name\">Buenos Aires, Argentina </span>\n </span>,\n <span class=\"city-name\">Buenos Aires, Argentina </span>,\n <span>\n <strong>El Bordo</strong>\n </span>,\n <span><a class=\"venue-link\" href=\"/es/venues/3469149-xlr-club\">XLR Club</a></span>,\n <span>\n <span class=\"city-name\">San Miguel, Argentina </span>\n </span>,\n <span class=\"city-name\">San Miguel, Argentina </span>,\n <span>\n <strong>Leo Masliah</strong>\n </span>,\n <span><a class=\"venue-link\" href=\"/es/venues/4446655-la-scala-de-san-telmo\">La Scala de San Telmo</a></span>,\n <span>\n <span class=\"city-name\">Buenos Aires, Argentina </span>\n </span>,\n <span class=\"city-name\">Buenos Aires, Argentina </span>,\n <span>\n <strong>Ligia Piro</strong>\n </span>,\n <span><a class=\"venue-link\" href=\"/es/venues/1090391-centro-cultural-torquato-tasso\">Centro Cultural Torquato Tasso</a></span>,\n <span>\n <span class=\"city-name\">Buenos Aires, Argentina </span>\n </span>,\n <span class=\"city-name\">Buenos Aires, Argentina </span>,\n <span>\n <strong>Acorazado Potemkin y El Viento</strong>\n </span>,\n <span><a class=\"venue-link\" href=\"/es/venues/1246821-uniclub\">UNICLUB</a></span>,\n <span>\n <span class=\"city-name\">Buenos Aires, Argentina </span>\n </span>,\n <span class=\"city-name\">Buenos Aires, Argentina </span>,\n <span>\n <strong>Julian Mourin</strong>\n </span>,\n <span><a class=\"venue-link\" href=\"/es/venues/3481889-la-tangente\">La Tangente</a></span>,\n <span>\n <span class=\"city-name\">Buenos Aires, Argentina </span>\n </span>,\n <span class=\"city-name\">Buenos Aires, Argentina </span>,\n <span>\n <strong>Cañón (Arg)</strong>\n </span>,\n <span><a class=\"venue-link\" href=\"/es/venues/4442136-la-tierra-invisible\">La Tierra Invisible</a></span>,\n <span>\n <span class=\"city-name\">Buenos Aires, Argentina </span>\n </span>,\n <span class=\"city-name\">Buenos Aires, Argentina </span>,\n <span>\n <strong>Cachitas Now!</strong>\n </span>,\n <span><a class=\"venue-link\" href=\"/es/venues/4131064-sala-siranush\">Sala Siranush</a></span>,\n <span>\n <span class=\"city-name\">Buenos Aires, Argentina </span>\n </span>,\n <span class=\"city-name\">Buenos Aires, Argentina </span>,\n <span>\n <strong>Miguel Mateos</strong>\n </span>,\n <span><a class=\"venue-link\" href=\"/es/venues/4439336-teatro-coliseo-lomas-de-zamora\">TEATRO COLISEO LOMAS DE ZAMORA</a></span>,\n <span>\n <span class=\"city-name\">Lomas de Zamora, Argentina </span>\n </span>,\n <span class=\"city-name\">Lomas de Zamora, Argentina </span>,\n <span>\n <strong>Estelares</strong>\n </span>,\n <span><a class=\"venue-link\" href=\"/es/venues/90063-la-trastienda\">La Trastienda</a></span>,\n <span>\n <span class=\"city-name\">Buenos Aires, Argentina </span>\n </span>,\n <span class=\"city-name\">Buenos Aires, Argentina </span>,\n <span>\n <strong>Abel Pintos</strong>\n </span>,\n <span><a class=\"venue-link\" href=\"/es/venues/3695764-teatro-opera-orbis-seguros\">Teatro Ópera Orbis Seguros</a></span>,\n <span>\n <span class=\"city-name\">Buenos Aires, Argentina </span>\n </span>,\n <span class=\"city-name\">Buenos Aires, Argentina </span>,\n <span>\n <strong>Alika</strong>\n </span>,\n <span><a class=\"venue-link\" href=\"/es/venues/3686829-club-de-la-musica\">Club de la Música</a></span>,\n <span>\n <span class=\"city-name\">Buenos Aires, Argentina </span>\n </span>,\n <span class=\"city-name\">Buenos Aires, Argentina </span>,\n <span>\n <strong>Ayax y Prok</strong>\n </span>,\n <span><a class=\"venue-link\" href=\"/es/venues/3034834-teatro-greison-monte-grande\">Teatro Greison, Monte Grande</a></span>,\n <span>\n <span class=\"city-name\">Buenos Aires, Argentina </span>\n </span>,\n <span class=\"city-name\">Buenos Aires, Argentina </span>,\n <span>\n <strong>Diego Topa</strong>\n </span>,\n <span><a class=\"venue-link\" href=\"/es/venues/3305274-teatro-nini-marshall\">Teatro Niní Marshall</a></span>,\n <span>\n <span class=\"city-name\">Tigre, Argentina </span>\n </span>,\n <span class=\"city-name\">Tigre, Argentina </span>,\n <span>\n <strong>Emi Galvan</strong>\n </span>,\n <span><a class=\"venue-link\" href=\"/es/venues/232923-crobar\">Crobar</a></span>,\n <span>\n <span class=\"city-name\">Buenos Aires, Argentina </span>\n </span>,\n <span class=\"city-name\">Buenos Aires, Argentina </span>,\n <span>\n <strong>Jhon Mutante</strong>\n </span>,\n <span><a class=\"venue-link\" href=\"/es/venues/928391-roxy-live\">The Roxy Live!</a></span>,\n <span>\n <span class=\"city-name\">Buenos Aires, Argentina </span>\n </span>,\n <span class=\"city-name\">Buenos Aires, Argentina </span>,\n <span>\n <strong>Lughnasadh La Force</strong>\n </span>,\n <span><a class=\"venue-link\" href=\"/es/venues/2778838-el-amparo-bar\">El Amparo Bar</a></span>,\n <span>\n <span class=\"city-name\">Burzaco, Argentina </span>\n </span>,\n <span class=\"city-name\">Burzaco, Argentina </span>,\n <span class=\"support\">Mi Amigo Invencible, Daniel Melero, Los Besos, Lucy Patané, Melanie Williams &amp; El Cabloide, y Nicolás Mateo</span>,\n <span><a class=\"venue-link\" href=\"/es/venues/4314544-c-complejo-art-media\">C Complejo Art Media</a></span>,\n <span>\n <span class=\"city-name\">Buenos Aires, Argentina </span>\n </span>,\n <span class=\"city-name\">Buenos Aires, Argentina </span>,\n <span>\n <strong>Los Angeles Azules</strong>\n </span>,\n <span><a class=\"venue-link\" href=\"/es/venues/33461-luna-park\">Luna Park</a></span>,\n <span>\n <span class=\"city-name\">Buenos Aires, Argentina </span>\n </span>,\n <span class=\"city-name\">Buenos Aires, Argentina </span>,\n <span>\n <strong>LANY</strong>\n </span>,\n <span><a class=\"venue-link\" href=\"/es/venues/1842128-teatro-vorterix\">Teatro Vorterix</a></span>,\n <span>\n <span class=\"city-name\">Buenos Aires, Argentina </span>\n </span>,\n <span class=\"city-name\">Buenos Aires, Argentina </span>,\n <span>\n <strong>Kany García</strong>\n </span>,\n <span><a class=\"venue-link\" href=\"/es/venues/65471-teatro-gran-rex\">Teatro Gran Rex</a></span>,\n <span>\n <span class=\"city-name\">Buenos Aires, Argentina </span>\n </span>,\n <span class=\"city-name\">Buenos Aires, Argentina </span>,\n <span>\n <strong>Diego Topa</strong>\n </span>,\n <span><a class=\"venue-link\" href=\"/es/venues/3305269-teatro-coliseo\">Teatro Coliseo</a></span>,\n <span>\n <span class=\"city-name\">Lomas de Zamora, Argentina </span>\n </span>,\n <span class=\"city-name\">Lomas de Zamora, Argentina </span>,\n <span>\n <strong>Julian Hernandez</strong>\n </span>,\n <span><a class=\"venue-link\" href=\"/es/venues/4443326-entelar-espacio\">Entelar espacio</a></span>,\n <span>\n <span class=\"city-name\">San Andrés de Giles, Argentina </span>\n </span>,\n <span class=\"city-name\">San Andrés de Giles, Argentina </span>,\n <span>\n <strong>Tomi Maluf</strong>\n </span>,\n <span><a class=\"venue-link\" href=\"/es/venues/90063-la-trastienda\">La Trastienda</a></span>,\n <span>\n <span class=\"city-name\">Buenos Aires, Argentina </span>\n </span>,\n <span class=\"city-name\">Buenos Aires, Argentina </span>,\n <span>\n <strong>Paula Prieto</strong>\n </span>,\n <span><a class=\"venue-link\" href=\"/es/venues/928391-roxy-live\">The Roxy Live!</a></span>,\n <span>\n <span class=\"city-name\">Buenos Aires, Argentina </span>\n </span>,\n <span class=\"city-name\">Buenos Aires, Argentina </span>,\n <span>\n <strong>Don Olimpio, Andres Pilar, y Nadia Larcher</strong>\n </span>,\n <span><a class=\"venue-link\" href=\"/es/venues/4355239-dumont4040\">Dumont4040</a></span>,\n <span>\n <span class=\"city-name\">Buenos Aires, Argentina </span>\n </span>,\n <span class=\"city-name\">Buenos Aires, Argentina </span>,\n <span>\n <strong>Los Angeles Azules</strong>\n </span>,\n <span><a class=\"venue-link\" href=\"/es/venues/33461-luna-park\">Luna Park</a></span>,\n <span>\n <span class=\"city-name\">Buenos Aires, Argentina </span>\n </span>,\n <span class=\"city-name\">Buenos Aires, Argentina </span>,\n <span>\n <strong>Eli Alvarado</strong>\n </span>,\n <span><a class=\"venue-link\" href=\"/es/venues/1638588-la-dama-de-bollini\">La Dama De Bollini</a></span>,\n <span>\n <span class=\"city-name\">Buenos Aires, Argentina </span>\n </span>,\n <span class=\"city-name\">Buenos Aires, Argentina </span>,\n <span>\n <strong>Danny Ocean</strong>\n </span>,\n <span><a class=\"venue-link\" href=\"/es/venues/1842128-teatro-vorterix\">Teatro Vorterix</a></span>,\n <span>\n <span class=\"city-name\">Buenos Aires, Argentina </span>\n </span>,\n <span class=\"city-name\">Buenos Aires, Argentina </span>,\n <span>\n <strong>Joss Stone</strong>\n <span class=\"support\">Connie Isla</span>\n </span>,\n <span class=\"support\">Connie Isla</span>,\n <span><a class=\"venue-link\" href=\"/es/venues/33461-luna-park\">Luna Park</a></span>,\n <span>\n <span class=\"city-name\">Buenos Aires, Argentina </span>\n </span>,\n <span class=\"city-name\">Buenos Aires, Argentina </span>,\n <span>\n <strong>Astillero</strong>\n </span>,\n <span><a class=\"venue-link\" href=\"/es/venues/3437574-pista-urbana\">Pista Urbana</a></span>,\n <span>\n <span class=\"city-name\">Buenos Aires, Argentina </span>\n </span>,\n <span class=\"city-name\">Buenos Aires, Argentina </span>,\n <span>\n <strong>Hernán Casciari</strong>\n </span>,\n <span><a class=\"venue-link\" href=\"/es/venues/4438975-teatro-el-nacional\">TEATRO EL NACIONAL</a></span>,\n <span>\n <span class=\"city-name\">Buenos Aires, Argentina </span>\n </span>,\n <span class=\"city-name\">Buenos Aires, Argentina </span>,\n <span>\n <strong>Danny Ocean</strong>\n </span>,\n <span><a class=\"venue-link\" href=\"/es/venues/1842128-teatro-vorterix\">Teatro Vorterix</a></span>,\n <span>\n <span class=\"city-name\">Buenos Aires, Argentina </span>\n </span>,\n <span class=\"city-name\">Buenos Aires, Argentina </span>,\n <span>\n <strong>Abel Pintos</strong>\n </span>,\n <span><a class=\"venue-link\" href=\"/es/venues/3695764-teatro-opera-orbis-seguros\">Teatro Ópera Orbis Seguros</a></span>,\n <span>\n <span class=\"city-name\">Buenos Aires, Argentina </span>\n </span>,\n <span class=\"city-name\">Buenos Aires, Argentina </span>,\n <span>\n <strong>Abel Pintos</strong>\n </span>,\n <span><a class=\"venue-link\" href=\"/es/venues/3695764-teatro-opera-orbis-seguros\">Teatro Ópera Orbis Seguros</a></span>,\n <span>\n <span class=\"city-name\">Buenos Aires, Argentina </span>\n </span>,\n <span class=\"city-name\">Buenos Aires, Argentina </span>,\n <span>\n <strong>Nahual Santiago Cossarini</strong>\n </span>,\n <span><a class=\"venue-link\" href=\"/es/venues/1499518-cavern\">The Cavern</a></span>,\n <span>\n <span class=\"city-name\">Buenos Aires, Argentina </span>\n </span>,\n <span class=\"city-name\">Buenos Aires, Argentina </span>,\n <span class=\"support\">Altocamet, Riel, Buenos Vampiros, y Sol Stietz</span>,\n <span><a class=\"venue-link\" href=\"/es/venues/3481889-la-tangente\">La Tangente</a></span>,\n <span>\n <span class=\"city-name\">Buenos Aires, Argentina </span>\n </span>,\n <span class=\"city-name\">Buenos Aires, Argentina </span>,\n <span class=\"support\">Tras La Cuadra</span>,\n <span>\n <span class=\"city-name\">Buenos Aires, Argentina </span>\n </span>,\n <span class=\"city-name\">Buenos Aires, Argentina </span>,\n <span class=\"support\">Cochecama</span>,\n <span><a class=\"venue-link\" href=\"/es/venues/2418354-club-cultural-matienzo\">Club Cultural Matienzo</a></span>,\n <span>\n <span class=\"city-name\">Buenos Aires, Argentina </span>\n </span>,\n <span class=\"city-name\">Buenos Aires, Argentina </span>,\n <span>\n <strong>Airbag</strong>\n </span>,\n <span><a class=\"venue-link\" href=\"/es/venues/33461-luna-park\">Luna Park</a></span>,\n <span>\n <span class=\"city-name\">Buenos Aires, Argentina </span>\n </span>,\n <span class=\"city-name\">Buenos Aires, Argentina </span>,\n <span>\n <strong>Abel Pintos</strong>\n </span>,\n <span><a class=\"venue-link\" href=\"/es/venues/3695764-teatro-opera-orbis-seguros\">Teatro Ópera Orbis Seguros</a></span>,\n <span>\n <span class=\"city-name\">Buenos Aires, Argentina </span>\n </span>,\n <span class=\"city-name\">Buenos Aires, Argentina </span>,\n <span>\n <strong>Silvestre y La Naranja</strong>\n </span>,\n <span><a class=\"venue-link\" href=\"/es/venues/1842128-teatro-vorterix\">Teatro Vorterix</a></span>,\n <span>\n <span class=\"city-name\">Buenos Aires, Argentina </span>\n </span>,\n <span class=\"city-name\">Buenos Aires, Argentina </span>,\n <span>\n <strong>Ligia Piro</strong>\n </span>,\n <span><a class=\"venue-link\" href=\"/es/venues/1090391-centro-cultural-torquato-tasso\">Centro Cultural Torquato Tasso</a></span>,\n <span>\n <span class=\"city-name\">Buenos Aires, Argentina </span>\n </span>,\n <span class=\"city-name\">Buenos Aires, Argentina </span>,\n <span class=\"previous_page disabled\"><span class=\"translation_missing\" title=\"translation missing: es.will_paginate.previous_label\">Previous Label</span></span>,\n <span class=\"translation_missing\" title=\"translation missing: es.will_paginate.previous_label\">Previous Label</span>,\n <span class=\"translation_missing\" title=\"translation missing: es.will_paginate.next_label\">Next Label</span>,\n <span class=\"event-details\">Velez Sarsfield Stadium</span>,\n <span class=\"event-details\">Buenos Aires, Argentina</span>,\n <span class=\"event-details\">Teatro Vorterix</span>,\n <span class=\"event-details\">Buenos Aires, Argentina</span>,\n <span class=\"event-details\">Teatro Gran Rex</span>,\n <span class=\"event-details\">Buenos Aires, Argentina</span>,\n <span class=\"event-details\">Groove</span>,\n <span class=\"event-details\">Buenos Aires, Argentina</span>,\n <span class=\"event-details\">Centro Cultural Florencio Constantino</span>,\n <span class=\"event-details\">BRAGADO, Argentina</span>,\n <span class=\"event-details\">Teatro Vorterix</span>,\n <span class=\"event-details\">Buenos Aires, Argentina</span>,\n <span class=\"event-details\">Teatro Vorterix</span>,\n <span class=\"event-details\">Buenos Aires, Argentina</span>,\n <span class=\"event-details\">Lado B, Niceto Club</span>,\n <span class=\"event-details\">Buenos Aires, Argentina</span>,\n <span class=\"event-details\">Auditorio Sur</span>,\n <span class=\"event-details\">Buenos Aires, Argentina</span>,\n <span class=\"event-details\">1040 Polo Cultural</span>,\n <span class=\"event-details\">Buenos Aires, Argentina</span>,\n <span class=\"event-details\">Niceto Club</span>,\n <span class=\"event-details\">Buenos Aires, Argentina</span>,\n <span class=\"event-details\">Lignée Bar</span>,\n <span class=\"event-details\">Buenos Aires, Argentina</span>,\n <span class=\"event-details\">Continuum Bar</span>,\n <span class=\"event-details\">Hurlingham, Argentina</span>,\n <span class=\"event-details\">Camping BA</span>,\n <span class=\"event-details\">Buenos Aires, Argentina</span>,\n <span class=\"event-details\">Margarita Xirgu-Espacio Untref</span>,\n <span class=\"event-details\">Buenos Aires, Argentina</span>,\n <span class=\"event-details\">Niceto Club</span>,\n <span class=\"event-details\">Buenos Aires, Argentina</span>,\n <span class=\"event-details\">El Emergente Bar - Almagro</span>,\n <span class=\"event-details\">Buenos Aires, Argentina</span>,\n <span class=\"event-details\">Espacio Cultural Maquinal</span>,\n <span class=\"event-details\">Buenos Aires, Argentina</span>,\n <span class=\"event-details\">Circe Fábrica de Arte / Gral. Manuel A. Rodríguez 1559 Villa Crespo - C.A.B.A</span>,\n <span class=\"event-details\">Buenos Aires, Argentina</span>,\n <span>Socio oficial de mercadería</span>,\n <span>Síguenos.</span>,\n <span>Danos un \"Me gusta\".</span>,\n <span>Pero realmente esperamos que nos ames.</span>]"
     },
     "metadata": {}
    }
   ]
  },
  {
   "cell_type": "code",
   "metadata": {
    "cell_id": "71fbc00aba4d451eb81e84701f6cfe68",
    "tags": [],
    "deepnote_to_be_reexecuted": false,
    "source_hash": "ad24f1f5",
    "execution_start": 1654175191145,
    "execution_millis": 230,
    "deepnote_cell_type": "code",
    "deepnote_cell_height": 1124.46875
   },
   "source": "from requests import get\nimport bs4 as bs\n\n# Descargo el codigo HTML\nresult = get(\"https://www.songkick.com/es/metro-areas/32911-argentina-buenos-aires\")\n\n# Hago que la computadora lo vea y lo interprete para luego poder navegarlo facilmente\nsoup = bs.BeautifulSoup(result.content,'html.parser') #Result.content signifaca obtener el contenido \n                                                     #de la web\n\n# Extraigo los valores que me interesan\nvalues = soup.find_all(\"div\",{\"class\":\"sticky-container\"})\n\n# Extraigo el texto de cada elemento\nshows = [value.text for value in values]\n\n# El comando set borra los titulos repetidos de la lista\nshows = set(shows)\n\n# Imprimo los resultados obtenidos\nfor show in shows:\n  print(show)",
   "execution_count": 3,
   "outputs": [
    {
     "name": "stdout",
     "text": "\n\n\n\n\n\n\n\nDiego Topa\n\n\n\n\nTeatro Coliseo,\n              \nLomas de Zamora, Argentina \n\n\n\n\n\n\n\n\n\n\n\n\n\n\n\n\n\n\n\n\n\n\n\nJulian Hernandez\n\n\n\n\nEntelar espacio,\n              \nSan Andrés de Giles, Argentina \n\n\n\n\n\n\n\n\n\n\n\n\n\n\n\n\n\n\n\n\n\n\n\nTomi Maluf\n\n\n\n\nLa Trastienda,\n              \nBuenos Aires, Argentina \n\n\n\n\n\n\n\n\n\n\n\n\n\n\n\n\n\n\n\n\n\n\n\nPaula Prieto\n\n\n\n\nThe Roxy Live!,\n              \nBuenos Aires, Argentina \n\n\n\n\n\n\n\n\n\n\n\n\n\n\n\n\n\n\n\n\n\n\n\nDon Olimpio, Andres Pilar, y Nadia Larcher\n\n\n\n\nDumont4040,\n              \nBuenos Aires, Argentina \n\n\n\n\n\n\n\n\n\n\n\n\nlunes 06 junio 2022\n\n\n\n\n\n\n\n\n\n\n\n\n\nLos Angeles Azules\n\n\n\n\nLuna Park,\n              \nBuenos Aires, Argentina \n\n\n\n\n\n\n\n\n\n\n\n\n\n\n\n\n\n\n\n\n\n\n\nEli Alvarado\n\n\n\n\nLa Dama De Bollini,\n              \nBuenos Aires, Argentina \n\n\n\n\n\n\n\n\n\n\n\n\nmartes 07 junio 2022\n\n\n\n\n\n\n\n\n\n\n\n\n\nDanny Ocean\n\n\n\n\nTeatro Vorterix,\n              \nBuenos Aires, Argentina \n\n\n\n\n\n\n\n\n\n\n\n\n\n\n\n\n\n\n\n\n\n\n\nJoss Stone\nConnie Isla\n\n\n\n\nLuna Park,\n              \nBuenos Aires, Argentina \n\n\n\n\n\n\n\n\n\n\n\n\n\n\n\n\n\n\n\n\n\n\n\nAstillero\n\n\n\n\nPista Urbana,\n              \nBuenos Aires, Argentina \n\n\n\n\n\n\n\n\n\n\n\n\n\n\n\n\n\n\n\n\n\n\n\nHernán Casciari\n\n\n\n\nTEATRO EL NACIONAL,\n              \nBuenos Aires, Argentina \n\n\n\n\n\n\n\n\n\n\n\n\nmiércoles 08 junio 2022\n\n\n\n\n\n\n\n\n\n\n\n\n\nDanny Ocean\n\n\n\n\nTeatro Vorterix,\n              \nBuenos Aires, Argentina \n\n\n\n\n\n\n\n\n\n\n\n\n\n\n\n\n\n\n\n\n\n\n\nAbel Pintos\n\n\n\n\nTeatro Ópera Orbis Seguros,\n              \nBuenos Aires, Argentina \n\n\n\n\n\n\n\n\n\n\n\n\njueves 09 junio 2022\n\n\n\n\n\n\n\n\n\n\n\n\n\nAbel Pintos\n\n\n\n\nTeatro Ópera Orbis Seguros,\n              \nBuenos Aires, Argentina \n\n\n\n\n\n\n\n\n\n\n\n\n\n\n\n\n\n\n\n\n\n\n\nNahual Santiago Cossarini\n\n\n\n\nThe Cavern,\n              \nBuenos Aires, Argentina \n\n\n\n\n\n\n\n\n\n\n\n\njueves 09 junio 2022 – jueves 09 junio 2022\n\n\n\n\n\n\n\n\n\n\n\n\nCasa del Puente Discos 2022\nAltocamet, Riel, Buenos Vampiros, y Sol Stietz\n\n\n\nLa Tangente,\n              \nBuenos Aires, Argentina \n\n\n\n\n\n\n\n\n\n\n\n\n\n\n\n\n\n\n\n\n\n\nExpo Escobar 2022\nTras La Cuadra\n\n\n\n\nBuenos Aires, Argentina \n\n\n\n\n\n\n\n\n\n\n\n\n\n\n\n\n\n\n\n\n\n\nFrescura 2022\nCochecama\n\n\n\nClub Cultural Matienzo,\n              \nBuenos Aires, Argentina \n\n\n\n\n\n\n\n\n\n\n\n\nviernes 10 junio 2022\n\n\n\n\n\n\n\n\n\n\n\n\n\nAirbag\n\n\n\n\nLuna Park,\n              \nBuenos Aires, Argentina \n\n\n\n\n\n\n\n\n\n\n\n\n\n\n\n\n\n\n\n\n\n\n\nAbel Pintos\n\n\n\n\nTeatro Ópera Orbis Seguros,\n              \nBuenos Aires, Argentina \n\n\n\n\n\n\n\n\n\n\n\n\n\n\n\n\n\n\n\n\n\n\n\nSilvestre y La Naranja\n\n\n\n\nTeatro Vorterix,\n              \nBuenos Aires, Argentina \n\n\n\n\n\n\n\n\n\n\n\n\n\n\n\n\n\n\n\n\n\n\n\nLigia Piro\n\n\n\n\nCentro Cultural Torquato Tasso,\n              \nBuenos Aires, Argentina \n\n\n\n\n\n\n\n\n\n\n\n\nPrevious Label 1 2 3 4 5 6 Next Label\n\n\nBoletos populares en Buenos Aires\n\n\n\n\n\n\nGreen Day\n\n\n\n            Dom 11 sep 2022\n\n              Velez Sarsfield Stadium\nBuenos Aires, Argentina\n \n\n\n\n\n\n\nLANY\n\n\n\n            Dom 05 jun 2022\n\n              Teatro Vorterix\nBuenos Aires, Argentina\n \n\n\n\n\n\n\nKevin Johansen\n\n\n\n            Sab 24 sep 2022\n\n              Teatro Gran Rex\nBuenos Aires, Argentina\n \n\n\n\n\n\n\nLos Mesoneros\n\n\n\n            Jue 28 jul 2022\n\n              Groove\nBuenos Aires, Argentina\n \n\n\n\n\n\n\nLa Beriso\n\n\n\n            Dom 07 ago 2022\n\n              Centro Cultural Florencio Constantino\nBRAGADO, Argentina\n \n\n\n\n\n\n\nAirbourne\n\n\n\n            Mar 30 ago 2022\n\n              Teatro Vorterix\nBuenos Aires, Argentina\n \n\n\n\n\n\n\nSIAMÉS\n\n\n\n            Sab 18 jun 2022\n\n              Teatro Vorterix\nBuenos Aires, Argentina\n \n\n\n\n\n\n\nBoom Boom Kid\n\n\n\n            Sab 25 jun 2022\n\n              Lado B, Niceto Club\nBuenos Aires, Argentina\n \n\n\n\n\n\n\nCadena Perpetua\n\n\n\n            Sab 23 jul 2022\n\n              Auditorio Sur\nBuenos Aires, Argentina\n \n\n\n\n\n\n\nLeo Garcia\n\n\n\n            Sab 25 jun 2022\n\n              1040 Polo Cultural\nBuenos Aires, Argentina\n \n\n\n\n\n\n\nGativideo\n\n\n\n            Vier 01 jul 2022\n\n              Niceto Club\nBuenos Aires, Argentina\n \n\n\n\n\n\n\nHozho\n\n\n\n            Vier 10 jun 2022\n\n              Lignée Bar\nBuenos Aires, Argentina\n \n\n\n\n\n\n\nPoseidotica\n\n\n\n            Sab 11 jun 2022\n\n              Continuum Bar\nHurlingham, Argentina\n \n\n\n\n\n\n\nBarbi Recanati\n\n\n\n            Sab 11 jun 2022\n\n              Camping BA\nBuenos Aires, Argentina\n \n\n\n\n\n\n\nJulieta Laso\n\n\n\n            Sab 11 jun 2022\n\n              Margarita Xirgu-Espacio Untref\nBuenos Aires, Argentina\n \n\n\n\n\n\n\nFin Del Mundo\n\n\n\n            Sab 18 jun 2022\n\n              Niceto Club\nBuenos Aires, Argentina\n \n\n\n\n\n\n\nMujer Cebra\n\n\n\n            Vier 10 jun 2022\n\n              El Emergente Bar - Almagro\nBuenos Aires, Argentina\n \n\n\n\n\n\n\nSakatumba\n\n\n\n            Sab 11 jun 2022\n\n              Espacio Cultural Maquinal\nBuenos Aires, Argentina\n \n\n\n\n\n\n\nMarcela Arroyo\n\n\n\n            Vier 22 jul 2022\n\n              Circe Fábrica de Arte / Gral. Manuel A. Rodríguez 1559 Villa Crespo - C.A.B.A\nBuenos Aires, Argentina\n \n\n\n\n\n\n\n\n\n\n\n\n\n\n\n\n\n",
     "output_type": "stream"
    }
   ]
  },
  {
   "cell_type": "markdown",
   "source": "#### ROBOT NOTIFICADOR: TELEGRAM",
   "metadata": {
    "cell_id": "9886aa1fb1f2477299b67d179c732449",
    "tags": [],
    "deepnote_cell_type": "markdown",
    "deepnote_cell_height": 54.15625
   }
  },
  {
   "cell_type": "code",
   "metadata": {
    "cell_id": "01346e0a5de54bdfad9eafd843d63883",
    "tags": [],
    "deepnote_to_be_reexecuted": false,
    "source_hash": "93ceaaa1",
    "execution_start": 1654189798629,
    "execution_millis": 27,
    "deepnote_cell_type": "code",
    "deepnote_cell_height": 252.4375,
    "deepnote_output_heights": [
     611
    ]
   },
   "source": "from requests import get\n\nbot_token = xxxx\nurl = f\"https://api.telegram.org/bot{bot_token}/getUpdates\"\nresultado = get(url)\nmensajes = resultado.json()\nmensajes",
   "execution_count": 43,
   "outputs": [
    {
     "output_type": "error",
     "ename": "NameError",
     "evalue": "name 'xxxx' is not defined",
     "traceback": [
      "\u001b[0;31m---------------------------------------------------------------------------\u001b[0m",
      "\u001b[0;31mNameError\u001b[0m                                 Traceback (most recent call last)",
      "\u001b[0;32m<ipython-input-43-4c8b03253e6b>\u001b[0m in \u001b[0;36m<module>\u001b[0;34m\u001b[0m\n\u001b[1;32m      1\u001b[0m \u001b[0;32mfrom\u001b[0m \u001b[0mrequests\u001b[0m \u001b[0;32mimport\u001b[0m \u001b[0mget\u001b[0m\u001b[0;34m\u001b[0m\u001b[0;34m\u001b[0m\u001b[0m\n\u001b[1;32m      2\u001b[0m \u001b[0;34m\u001b[0m\u001b[0m\n\u001b[0;32m----> 3\u001b[0;31m \u001b[0mbot_token\u001b[0m \u001b[0;34m=\u001b[0m \u001b[0mxxxx\u001b[0m\u001b[0;34m\u001b[0m\u001b[0;34m\u001b[0m\u001b[0m\n\u001b[0m\u001b[1;32m      4\u001b[0m \u001b[0murl\u001b[0m \u001b[0;34m=\u001b[0m \u001b[0;34mf\"https://api.telegram.org/bot{bot_token}/getUpdates\"\u001b[0m\u001b[0;34m\u001b[0m\u001b[0;34m\u001b[0m\u001b[0m\n\u001b[1;32m      5\u001b[0m \u001b[0mresultado\u001b[0m \u001b[0;34m=\u001b[0m \u001b[0mget\u001b[0m\u001b[0;34m(\u001b[0m\u001b[0murl\u001b[0m\u001b[0;34m)\u001b[0m\u001b[0;34m\u001b[0m\u001b[0;34m\u001b[0m\u001b[0m\n",
      "\u001b[0;31mNameError\u001b[0m: name 'xxxx' is not defined"
     ]
    }
   ]
  },
  {
   "cell_type": "code",
   "metadata": {
    "cell_id": "081714ba1d2b4c5c872787671113eccd",
    "tags": [],
    "deepnote_to_be_reexecuted": false,
    "source_hash": "8d721240",
    "execution_start": 1654189808029,
    "execution_millis": 4,
    "deepnote_cell_type": "code",
    "deepnote_cell_height": 546.640625,
    "deepnote_output_heights": [
     251.375
    ]
   },
   "source": "#todo listo\nfrom requests import post\n\ndef send_msg(msg, chat_id, bot_token):\n    resp = post(\n        f\"https://api.telegram.org/bot{bot_token}/sendMessage?\"\n        f\"chat_id={chat_id}&parse_mode=Markdown&text={msg}\"\n    )\n    return resp.json()\n\nchat_id = xxxxxx\nsend_msg(\"hola, te envio las novedades de los recitales!\", chat_id, bot_token)",
   "execution_count": 44,
   "outputs": [
    {
     "output_type": "error",
     "ename": "NameError",
     "evalue": "name 'xxxxxx' is not defined",
     "traceback": [
      "\u001b[0;31m---------------------------------------------------------------------------\u001b[0m",
      "\u001b[0;31mNameError\u001b[0m                                 Traceback (most recent call last)",
      "\u001b[0;32m<ipython-input-44-c3572ffe7023>\u001b[0m in \u001b[0;36m<module>\u001b[0;34m\u001b[0m\n\u001b[1;32m      9\u001b[0m     \u001b[0;32mreturn\u001b[0m \u001b[0mresp\u001b[0m\u001b[0;34m.\u001b[0m\u001b[0mjson\u001b[0m\u001b[0;34m(\u001b[0m\u001b[0;34m)\u001b[0m\u001b[0;34m\u001b[0m\u001b[0;34m\u001b[0m\u001b[0m\n\u001b[1;32m     10\u001b[0m \u001b[0;34m\u001b[0m\u001b[0m\n\u001b[0;32m---> 11\u001b[0;31m \u001b[0mchat_id\u001b[0m \u001b[0;34m=\u001b[0m \u001b[0mxxxxxx\u001b[0m\u001b[0;34m\u001b[0m\u001b[0;34m\u001b[0m\u001b[0m\n\u001b[0m\u001b[1;32m     12\u001b[0m \u001b[0msend_msg\u001b[0m\u001b[0;34m(\u001b[0m\u001b[0;34m\"hola, te envio las novedades de los recitales!\"\u001b[0m\u001b[0;34m,\u001b[0m \u001b[0mchat_id\u001b[0m\u001b[0;34m,\u001b[0m \u001b[0mbot_token\u001b[0m\u001b[0;34m)\u001b[0m\u001b[0;34m\u001b[0m\u001b[0;34m\u001b[0m\u001b[0m\n",
      "\u001b[0;31mNameError\u001b[0m: name 'xxxxxx' is not defined"
     ]
    }
   ]
  },
  {
   "cell_type": "code",
   "metadata": {
    "cell_id": "e878b1d96b284b968fd127649e8930f1",
    "tags": [],
    "deepnote_to_be_reexecuted": false,
    "source_hash": "a679bfb5",
    "execution_start": 1654175192294,
    "execution_millis": 1526,
    "owner_user_id": "38cbef6d-3d01-43d7-b7c5-3463e13a6c9e",
    "deepnote_cell_type": "code",
    "deepnote_cell_height": 117.15625
   },
   "source": "# Envio los shows encontrados\nfor show in shows:\n  send_msg(show, chat_id, bot_token)",
   "execution_count": 6,
   "outputs": []
  },
  {
   "cell_type": "markdown",
   "source": "### Todo junto: envío a telegram cada 24hs las novedades de mi interés:\n\nComo se puede dejar corriendo? \n- sitio heroku, por ejemplo.\n- de manera local programarlo y dejar la pc prendida\n-replit.com\n",
   "metadata": {
    "cell_id": "d31b51bdca5841e1ad5b0b1f7f58a48c",
    "tags": [],
    "deepnote_cell_type": "markdown",
    "deepnote_cell_height": 198.640625
   }
  },
  {
   "cell_type": "code",
   "metadata": {
    "cell_id": "8426cb4b53af4b10b295d781cf4614b3",
    "tags": [],
    "deepnote_to_be_reexecuted": false,
    "source_hash": "a67d1f8e",
    "execution_start": 1654175193848,
    "execution_millis": 59847,
    "deepnote_cell_type": "code",
    "deepnote_cell_height": 774.4375
   },
   "source": "from time import sleep\nfrom requests import get, post\nimport bs4 as bs\n\ndef send_msg(msg, chat_id, bot_token):\n    resp = post(\n        f\"https://api.telegram.org/bot{bot_token}/sendMessage?\"\n        f\"chat_id={chat_id}&parse_mode=Markdown&text={msg}\"\n    )\n    return resp.json()\n\nbot_token = xxx\nchat_id = xxxxx # COMPLETAR\n\nwhile True: # Repetir esto por siempre:\n\n  # Descargo el codigo HTML\n  result = get(\"https://www.songkick.com/es/metro-areas/32911-argentina-buenos-aires\")\n\n  # Hago que la computadora lo vea y lo interprete para luego poder navegarlo facilmente\n  soup = bs.BeautifulSoup(result.content,'html.parser')\n\n  # Extraigo los valores que me interesan\n  values = soup.find_all(\"div\",{\"class\":\"sticky-container\"})\n\n  # Extraigo el texto de cada elemento\n  shows = [value.text for value in values]\n\n  # El comando set borra los titulos repetidos de la lista\n  shows = set(shows)\n\n  # Envio los shows encontrados\n  for show in shows:\n    send_msg(show, chat_id, bot_token)\n\n  sleep(24*60*60) # Dormi 24 horas",
   "execution_count": 7,
   "outputs": [
    {
     "output_type": "error",
     "ename": "KeyboardInterrupt",
     "evalue": "",
     "traceback": [
      "\u001b[0;31m---------------------------------------------------------------------------\u001b[0m",
      "\u001b[0;31mKeyboardInterrupt\u001b[0m                         Traceback (most recent call last)",
      "\u001b[0;32m<ipython-input-7-71ecd8843fa4>\u001b[0m in \u001b[0;36m<module>\u001b[0;34m\u001b[0m\n\u001b[1;32m     34\u001b[0m     \u001b[0msend_msg\u001b[0m\u001b[0;34m(\u001b[0m\u001b[0mshow\u001b[0m\u001b[0;34m,\u001b[0m \u001b[0mchat_id\u001b[0m\u001b[0;34m,\u001b[0m \u001b[0mbot_token\u001b[0m\u001b[0;34m)\u001b[0m\u001b[0;34m\u001b[0m\u001b[0;34m\u001b[0m\u001b[0m\n\u001b[1;32m     35\u001b[0m \u001b[0;34m\u001b[0m\u001b[0m\n\u001b[0;32m---> 36\u001b[0;31m   \u001b[0msleep\u001b[0m\u001b[0;34m(\u001b[0m\u001b[0;36m24\u001b[0m\u001b[0;34m*\u001b[0m\u001b[0;36m60\u001b[0m\u001b[0;34m*\u001b[0m\u001b[0;36m60\u001b[0m\u001b[0;34m)\u001b[0m \u001b[0;31m# Dormi 24 horas\u001b[0m\u001b[0;34m\u001b[0m\u001b[0;34m\u001b[0m\u001b[0m\n\u001b[0m",
      "\u001b[0;31mKeyboardInterrupt\u001b[0m: "
     ]
    }
   ]
  },
  {
   "cell_type": "markdown",
   "source": "### Otro ejemplo: Búsqueda de alquileres baratos ",
   "metadata": {
    "cell_id": "ba666a6eeeea4de3bb4b4ada6ee9691f",
    "tags": [],
    "deepnote_cell_type": "markdown",
    "deepnote_cell_height": 62.15625
   }
  },
  {
   "cell_type": "code",
   "metadata": {
    "cell_id": "6d7055368d214a9e9f4d3fe4ddc065b1",
    "tags": [],
    "deepnote_to_be_reexecuted": false,
    "source_hash": "2b6a8779",
    "execution_start": 1654175258830,
    "execution_millis": 942,
    "deepnote_cell_type": "code",
    "deepnote_cell_height": 340.359375,
    "deepnote_output_heights": [
     117.09375
    ]
   },
   "source": "from requests import get\nimport bs4 as bs\n\nresult = get(\"http://www.inmobiliariacampelo.com.ar/listing?user_id=343&purpose=rent&type=Departamento\")\nsoup = bs.BeautifulSoup(result.content,'lxml')\n\napartments = [apartment.text for apartment in soup.find_all('div',{\"class\":\"image_area overlay_one overfollow\"})]\napartments",
   "execution_count": 8,
   "outputs": [
    {
     "output_type": "execute_result",
     "execution_count": 8,
     "data": {
      "text/plain": "['\\n\\nReservado\\n\\n                                                                                                                    Alquiler                                                                                                            \\n\\n $42.000\\n70 M² Totales\\n\\n\\n 6 \\n\\n',\n '\\n\\nReservado\\n\\n                                                                                                                    Alquiler                                                                                                            \\n\\n $38.000\\n70 M² Totales\\n\\n\\n 8 \\n\\n',\n '\\n\\n\\n                                                                                                                    Alquiler                                                                                                            \\n\\n $40.000\\n60 M² Totales\\n\\n\\n 6 \\n\\n',\n '\\n\\nReservado\\n\\n                                                                                                                    Alquiler                                                                                                            \\n\\n $60.000\\n100 M² Totales\\n\\n\\n 9 \\n\\n',\n '\\n\\nReservado\\n\\n                                                                                                                    Alquiler                                                                                                            \\n\\n $38.000\\n60 M² Totales\\n\\n\\n 6 \\n\\n',\n '\\n\\n\\n                                                                                                                    Alquiler                                                                                                            \\n\\n $20.000\\n35 M² Totales\\n\\n\\n 5 \\n\\n']"
     },
     "metadata": {}
    }
   ]
  },
  {
   "cell_type": "code",
   "metadata": {
    "cell_id": "2ec7af6fddbf4a36bb370dc9c31f456c",
    "tags": [],
    "deepnote_to_be_reexecuted": false,
    "source_hash": "dd6ddc79",
    "execution_start": 1654178484330,
    "execution_millis": 918,
    "deepnote_cell_type": "code",
    "deepnote_cell_height": 834.265625,
    "deepnote_output_heights": [
     611
    ]
   },
   "source": "from requests import get\nimport bs4 as bs\n\nresult = get(\"https://listado.mercadolibre.com.ar/_TiempoEnvio_EnElDia_Deal_hot-sale-2022-deportes_GENDER_339665_promotion*type_deal*of*the*day#applied_filter_id%3Dshipping_time_highlighted%26applied_filter_name%3DTiempo+de+entrega%26applied_filter_order%3D1%26applied_value_id%3Dsameday%26applied_value_name%3DLlegan+hoy%26applied_value_order%3D1%26applied_value_results%3D53%26is_custom%3Dfalse\")\nsoup = bs.BeautifulSoup(result.content,'lxml')\n\napartments = [apartment.text for apartment in soup.find_all('div',{\"class\":\"ui-search-price__second-line\"})]\napartments",
   "execution_count": 32,
   "outputs": [
    {
     "output_type": "execute_result",
     "execution_count": 32,
     "data": {
      "text/plain": "['7839 pesos$7.83920% OFF',\n '7839 pesos$7.83920% OFF',\n '7461 pesos$7.46110% OFF',\n '7191 pesos$7.19110% OFF',\n '5550 pesos$5.5505% OFF',\n '8159 pesos$8.15920% OFF',\n '7309 pesos$7.30915% OFF',\n '6929 pesos$6.92910% OFF',\n '1080 pesos$1.08060% OFF',\n '4799 pesos$4.79920% OFF',\n '6159 pesos$6.15920% OFF',\n '9599 pesos$9.59920% OFF',\n '10199 pesos$10.19915% OFF',\n '5669 pesos$5.66910% OFF',\n '5039 pesos$5.03920% OFF',\n '10199 pesos$10.19915% OFF',\n '11992 pesos$11.99220% OFF',\n '11992 pesos$11.99220% OFF',\n '9584 pesos$9.58410% OFF',\n '8159 pesos$8.15920% OFF',\n '8559 pesos$8.55920% OFF',\n '6719 pesos$6.71920% OFF',\n '6719 pesos$6.71920% OFF',\n '8144 pesos$8.14410% OFF',\n '10872 pesos$10.87220% OFF',\n '7182 pesos$7.18215% OFF',\n '10872 pesos$10.87220% OFF',\n '6204 pesos$6.20415% OFF',\n '12152 pesos$12.15220% OFF',\n '6092 pesos$6.09210% OFF',\n '8754 pesos$8.75415% OFF',\n '13439 pesos$13.43920% OFF',\n '6289 pesos$6.28915% OFF',\n '5949 pesos$5.94915% OFF',\n '5949 pesos$5.94915% OFF',\n '11602 pesos$11.60215% OFF',\n '6392 pesos$6.39220% OFF',\n '3994 pesos$3.99415% OFF',\n '7997 pesos$7.99714% OFF',\n '18900 pesos$18.90010% OFF',\n '6999 pesos$6.99928% OFF',\n '9519 pesos$9.51920% OFF',\n '8967 pesos$8.96715% OFF',\n '3994 pesos$3.99415% OFF',\n '14279 pesos$14.27915% OFF',\n '23400 pesos$23.40010% OFF',\n '6561 pesos$6.56110% OFF',\n '7989 pesos$7.98915% OFF']"
     },
     "metadata": {}
    }
   ]
  },
  {
   "cell_type": "code",
   "source": "from time import sleep\nfrom requests import get, post\nimport bs4 as bs\n\ndef send_msg(msg, chat_id, bot_token):\n    resp = post(\n        f\"https://api.telegram.org/bot{bot_token}/sendMessage?\"\n        f\"chat_id={chat_id}&parse_mode=Markdown&text={msg}\"\n    )\n    return resp.json()\n\nbot_token = \"xxxxxxxxxx\"\nchat_id =xxxxxxxxxx # COMPLETAR\n\nwhile True: # Repetir esto por siempre:\n\n  # Descargo el codigo HTML\n  result = get(\"https://listado.mercadolibre.com.ar/_TiempoEnvio_EnElDia_Deal_hot-sale-2022-deportes_GENDER_339665_promotion*type_deal*of*the*day#applied_filter_id%3Dshipping_time_highlighted%26applied_filter_name%3DTiempo+de+entrega%26applied_filter_order%3D1%26applied_value_id%3Dsameday%26applied_value_name%3DLlegan+hoy%26applied_value_order%3D1%26applied_value_results%3D53%26is_custom%3Dfalse\")\n\n  # Hago que la computadora lo vea y lo interprete para luego poder navegarlo facilmente\n  soup = bs.BeautifulSoup(result.content,'html.parser')\n\n  # Extraigo los valores que me interesan\n  values = soup.find_all(\"div\",{\"class\":\"ui-search-item__group ui-search-item__group--price\"})\n\n  # Extraigo el texto de cada elemento\n  zapatillas_baratas = [value.text for value in values]\n\n  # El comando set borra los titulos repetidos de la lista\n  zapatillas_baratas = set(zapatillas_baratas)\n\n  # Envio los shows encontrados\n  for zapatilla in zapatillas_baratas:\n    send_msg(zapatillas_baratas, chat_id, bot_token)\n\n  sleep(24*60*60) # Dormi 24 horas\n",
   "metadata": {
    "cell_id": "ca4031fbb2754ae1b3556d674fb5c2a8",
    "tags": [],
    "deepnote_to_be_reexecuted": false,
    "source_hash": "8255521d",
    "execution_start": 1654187976056,
    "execution_millis": 1693356,
    "deepnote_cell_type": "code",
    "deepnote_cell_height": 792.4375
   },
   "outputs": [
    {
     "output_type": "error",
     "ename": "KeyboardInterrupt",
     "evalue": "",
     "traceback": [
      "\u001b[0;31m---------------------------------------------------------------------------\u001b[0m",
      "\u001b[0;31mKeyboardInterrupt\u001b[0m                         Traceback (most recent call last)",
      "\u001b[0;32m<ipython-input-42-639a392b8409>\u001b[0m in \u001b[0;36m<module>\u001b[0;34m\u001b[0m\n\u001b[1;32m     34\u001b[0m     \u001b[0msend_msg\u001b[0m\u001b[0;34m(\u001b[0m\u001b[0mzapatillas_baratas\u001b[0m\u001b[0;34m,\u001b[0m \u001b[0mchat_id\u001b[0m\u001b[0;34m,\u001b[0m \u001b[0mbot_token\u001b[0m\u001b[0;34m)\u001b[0m\u001b[0;34m\u001b[0m\u001b[0;34m\u001b[0m\u001b[0m\n\u001b[1;32m     35\u001b[0m \u001b[0;34m\u001b[0m\u001b[0m\n\u001b[0;32m---> 36\u001b[0;31m   \u001b[0msleep\u001b[0m\u001b[0;34m(\u001b[0m\u001b[0;36m24\u001b[0m\u001b[0;34m*\u001b[0m\u001b[0;36m60\u001b[0m\u001b[0;34m*\u001b[0m\u001b[0;36m60\u001b[0m\u001b[0;34m)\u001b[0m \u001b[0;31m# Dormi 24 horas\u001b[0m\u001b[0;34m\u001b[0m\u001b[0;34m\u001b[0m\u001b[0m\n\u001b[0m",
      "\u001b[0;31mKeyboardInterrupt\u001b[0m: "
     ]
    }
   ],
   "execution_count": 42
  },
  {
   "cell_type": "code",
   "source": "",
   "metadata": {
    "cell_id": "ca5147950c144140860d3c119f3bd7c6",
    "tags": [],
    "deepnote_cell_type": "code",
    "deepnote_cell_height": 66.15625
   },
   "outputs": [],
   "execution_count": null
  },
  {
   "cell_type": "markdown",
   "source": "<a style='text-decoration:none;line-height:16px;display:flex;color:#5B5B62;padding:10px;justify-content:end;' href='https://deepnote.com?utm_source=created-in-deepnote-cell&projectId=f316ef4e-5c6b-490b-b1bb-0414a4ba54ea' target=\"_blank\">\n<img alt='Created in deepnote.com' style='display:inline;max-height:16px;margin:0px;margin-right:7.5px;' src='data:image/svg+xml;base64,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' > </img>\nCreated in <span style='font-weight:600;margin-left:4px;'>Deepnote</span></a>",
   "metadata": {
    "tags": [],
    "created_in_deepnote_cell": true,
    "deepnote_cell_type": "markdown"
   }
  }
 ],
 "nbformat": 4,
 "nbformat_minor": 2,
 "metadata": {
  "orig_nbformat": 2,
  "deepnote": {},
  "deepnote_notebook_id": "26633906-7ea2-426c-baf8-4347f602f4f7",
  "deepnote_execution_queue": []
 }
}